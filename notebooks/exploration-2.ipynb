{
 "cells": [
  {
   "cell_type": "markdown",
   "id": "99d97575-1888-4ec6-8701-a004af83d29c",
   "metadata": {
    "jp-MarkdownHeadingCollapsed": true
   },
   "source": [
    "# Chargement des bibliothèques"
   ]
  },
  {
   "cell_type": "code",
   "execution_count": 2,
   "id": "1db1844d-622c-4419-a71e-44e5c2c504e9",
   "metadata": {},
   "outputs": [],
   "source": [
    "import numpy as np\n",
    "import pandas as pd\n",
    "import matplotlib.pyplot as plt\n",
    "import seaborn as sns\n",
    "import time\n",
    "#######\n",
    "from numpy import isnan\n",
    "from pandas import read_csv\n",
    "%matplotlib inline"
   ]
  },
  {
   "cell_type": "markdown",
   "id": "b4dae8d1-1e57-488c-a796-c14bb32b6e7a",
   "metadata": {
    "jp-MarkdownHeadingCollapsed": true
   },
   "source": [
    "# Chargement des données"
   ]
  },
  {
   "cell_type": "code",
   "execution_count": 7,
   "id": "ea01788f-65ef-444f-a19e-22e2d81937c6",
   "metadata": {},
   "outputs": [
    {
     "name": "stdout",
     "output_type": "stream",
     "text": [
      "Temps d'exécution : 15.91969895362854 secondes\n"
     ]
    }
   ],
   "source": [
    "start_time = time.time()  # Capture le temps au début\n",
    "df_incident_2009_2017_NoIndex = pd.read_csv(\"../raw_data/LFB Incident data from 2009 - 2017.csv\", low_memory=False)\n",
    "df_incident_2018_2024_NoIndex = pd.read_csv(\"../raw_data/LFB Incident data from 2018 onwards.csv\", low_memory=False)\n",
    "df_mobilisation_2009_2014_NoIndex = pd.read_csv(\"../raw_data/LFB Mobilisation data from January 2009 - 2014.csv\", low_memory=False)\n",
    "df_mobilisation_2015_2020_NoIndex = pd.read_csv(\"../raw_data/LFB Mobilisation data from 2015 - 2020.csv\", low_memory=False)\n",
    "df_mobilisation_2021_2024_NoIndex = pd.read_csv(\"../raw_data/LFB Mobilisation data 2021 - 2024.csv\", low_memory=False)\n",
    "end_time = time.time()  # Capture le temps à la fin\n",
    "execution_time = end_time - start_time\n",
    "print(f\"Temps d'exécution : {execution_time} secondes\")"
   ]
  },
  {
   "cell_type": "markdown",
   "id": "f9d71236-1c39-4e18-a8b0-d087d90c22d8",
   "metadata": {
    "jp-MarkdownHeadingCollapsed": true
   },
   "source": [
    "# Concaténation"
   ]
  },
  {
   "cell_type": "code",
   "execution_count": 65,
   "id": "11de051c-998d-48a8-a14e-fd4679cc39c4",
   "metadata": {},
   "outputs": [],
   "source": [
    "df_incident = pd.concat([df_incident_2009_2017_NoIndex, df_incident_2018_2024_NoIndex], axis=0, ignore_index=True)"
   ]
  },
  {
   "cell_type": "code",
   "execution_count": 66,
   "id": "0dc2b51b-58f4-418b-be17-0734737c791b",
   "metadata": {},
   "outputs": [
    {
     "name": "stdout",
     "output_type": "stream",
     "text": [
      "<class 'pandas.core.frame.DataFrame'>\n",
      "RangeIndex: 1735980 entries, 0 to 1735979\n",
      "Data columns (total 39 columns):\n",
      " #   Column                                  Dtype  \n",
      "---  ------                                  -----  \n",
      " 0   IncidentNumber                          object \n",
      " 1   DateOfCall                              object \n",
      " 2   CalYear                                 int64  \n",
      " 3   TimeOfCall                              object \n",
      " 4   HourOfCall                              int64  \n",
      " 5   IncidentGroup                           object \n",
      " 6   StopCodeDescription                     object \n",
      " 7   SpecialServiceType                      object \n",
      " 8   PropertyCategory                        object \n",
      " 9   PropertyType                            object \n",
      " 10  AddressQualifier                        object \n",
      " 11  Postcode_full                           object \n",
      " 12  Postcode_district                       object \n",
      " 13  UPRN                                    float64\n",
      " 14  USRN                                    float64\n",
      " 15  IncGeo_BoroughCode                      object \n",
      " 16  IncGeo_BoroughName                      object \n",
      " 17  ProperCase                              object \n",
      " 18  IncGeo_WardCode                         object \n",
      " 19  IncGeo_WardName                         object \n",
      " 20  IncGeo_WardNameNew                      object \n",
      " 21  Easting_m                               float64\n",
      " 22  Northing_m                              float64\n",
      " 23  Easting_rounded                         int64  \n",
      " 24  Northing_rounded                        int64  \n",
      " 25  Latitude                                float64\n",
      " 26  Longitude                               float64\n",
      " 27  FRS                                     object \n",
      " 28  IncidentStationGround                   object \n",
      " 29  FirstPumpArriving_AttendanceTime        float64\n",
      " 30  FirstPumpArriving_DeployedFromStation   object \n",
      " 31  SecondPumpArriving_AttendanceTime       float64\n",
      " 32  SecondPumpArriving_DeployedFromStation  object \n",
      " 33  NumStationsWithPumpsAttending           float64\n",
      " 34  NumPumpsAttending                       float64\n",
      " 35  PumpCount                               int64  \n",
      " 36  PumpMinutesRounded                      int64  \n",
      " 37  Notional Cost (£)                       int64  \n",
      " 38  NumCalls                                float64\n",
      "dtypes: float64(11), int64(7), object(21)\n",
      "memory usage: 516.5+ MB\n"
     ]
    }
   ],
   "source": [
    "df_incident.info()"
   ]
  },
  {
   "cell_type": "code",
   "execution_count": 67,
   "id": "48f7040c-39b6-43f3-938d-a0b184ee72e1",
   "metadata": {},
   "outputs": [],
   "source": [
    "df_mobilisation = pd.concat([df_mobilisation_2009_2014_NoIndex, df_mobilisation_2015_2020_NoIndex, df_mobilisation_2021_2024_NoIndex],\n",
    "                            axis=0, ignore_index=True)"
   ]
  },
  {
   "cell_type": "code",
   "execution_count": 68,
   "id": "05113100-968e-4345-8fcb-29bae1cc1f39",
   "metadata": {},
   "outputs": [
    {
     "name": "stdout",
     "output_type": "stream",
     "text": [
      "<class 'pandas.core.frame.DataFrame'>\n",
      "RangeIndex: 2423948 entries, 0 to 2423947\n",
      "Data columns (total 22 columns):\n",
      " #   Column                    Dtype  \n",
      "---  ------                    -----  \n",
      " 0   IncidentNumber            object \n",
      " 1   CalYear                   int64  \n",
      " 2   HourOfCall                int64  \n",
      " 3   ResourceMobilisationId    int64  \n",
      " 4   Resource_Code             object \n",
      " 5   PerformanceReporting      object \n",
      " 6   DateAndTimeMobilised      object \n",
      " 7   DateAndTimeMobile         object \n",
      " 8   DateAndTimeArrived        object \n",
      " 9   TurnoutTimeSeconds        float64\n",
      " 10  TravelTimeSeconds         float64\n",
      " 11  AttendanceTimeSeconds     int64  \n",
      " 12  DateAndTimeLeft           object \n",
      " 13  DateAndTimeReturned       object \n",
      " 14  DeployedFromStation_Code  object \n",
      " 15  DeployedFromStation_Name  object \n",
      " 16  DeployedFromLocation      object \n",
      " 17  PumpOrder                 int64  \n",
      " 18  PlusCode_Code             object \n",
      " 19  PlusCode_Description      object \n",
      " 20  DelayCodeId               float64\n",
      " 21  DelayCode_Description     object \n",
      "dtypes: float64(3), int64(5), object(14)\n",
      "memory usage: 406.9+ MB\n"
     ]
    }
   ],
   "source": [
    "df_mobilisation.info()"
   ]
  },
  {
   "cell_type": "markdown",
   "id": "874e76ac-9451-4b3a-8455-bf0e6cb05f0b",
   "metadata": {
    "jp-MarkdownHeadingCollapsed": true
   },
   "source": [
    "# Analyse des valeurs manquantes"
   ]
  },
  {
   "cell_type": "code",
   "execution_count": 26,
   "id": "6aab0ea0-ec3d-4c6e-82d7-c7fa8ebd1fdf",
   "metadata": {},
   "outputs": [
    {
     "data": {
      "text/plain": [
       "IncidentNumber               0.000000\n",
       "CalYear                      0.000000\n",
       "HourOfCall                   0.000000\n",
       "ResourceMobilisationId       0.000000\n",
       "Resource_Code                0.000000\n",
       "PerformanceReporting         0.000000\n",
       "DateAndTimeMobilised         0.000000\n",
       "DateAndTimeMobile            1.160545\n",
       "DateAndTimeArrived           0.000000\n",
       "TurnoutTimeSeconds           1.166155\n",
       "TravelTimeSeconds            1.169951\n",
       "AttendanceTimeSeconds        0.000000\n",
       "DateAndTimeLeft              1.915223\n",
       "DateAndTimeReturned         59.852357\n",
       "DeployedFromStation_Code     0.001114\n",
       "DeployedFromStation_Name     0.001114\n",
       "DeployedFromLocation         0.048763\n",
       "PumpOrder                    0.000000\n",
       "PlusCode_Code                0.000000\n",
       "PlusCode_Description         0.000000\n",
       "DelayCodeId                 75.125044\n",
       "DelayCode_Description       75.125044\n",
       "dtype: float64"
      ]
     },
     "execution_count": 26,
     "metadata": {},
     "output_type": "execute_result"
    }
   ],
   "source": [
    "df_mobilisation.isnull().sum()/len(df_mobilisation)*100"
   ]
  },
  {
   "cell_type": "code",
   "execution_count": 25,
   "id": "42b167e2-d073-4993-a1f0-241fd375c38c",
   "metadata": {},
   "outputs": [
    {
     "data": {
      "text/plain": [
       "IncidentNumber                             0.000000\n",
       "DateOfCall                                 0.000000\n",
       "CalYear                                    0.000000\n",
       "TimeOfCall                                 0.000000\n",
       "HourOfCall                                 0.000000\n",
       "IncidentGroup                              0.000346\n",
       "StopCodeDescription                        0.000000\n",
       "SpecialServiceType                        67.630099\n",
       "PropertyCategory                           0.000346\n",
       "PropertyType                               0.000346\n",
       "AddressQualifier                           0.000058\n",
       "Postcode_full                             49.753281\n",
       "Postcode_district                          0.000000\n",
       "UPRN                                       8.141396\n",
       "USRN                                       9.382078\n",
       "IncGeo_BoroughCode                         0.000000\n",
       "IncGeo_BoroughName                         0.000000\n",
       "ProperCase                                 0.000000\n",
       "IncGeo_WardCode                            0.024482\n",
       "IncGeo_WardName                            0.024482\n",
       "IncGeo_WardNameNew                         0.024482\n",
       "Easting_m                                 49.753281\n",
       "Northing_m                                49.753281\n",
       "Easting_rounded                            0.000000\n",
       "Northing_rounded                           0.000000\n",
       "Latitude                                  49.753281\n",
       "Longitude                                 49.753281\n",
       "FRS                                        0.000000\n",
       "IncidentStationGround                      0.000058\n",
       "FirstPumpArriving_AttendanceTime           7.704812\n",
       "FirstPumpArriving_DeployedFromStation      7.705446\n",
       "SecondPumpArriving_AttendanceTime         64.240083\n",
       "SecondPumpArriving_DeployedFromStation    64.240487\n",
       "NumStationsWithPumpsAttending              0.777428\n",
       "NumPumpsAttending                          0.777428\n",
       "PumpCount                                  0.000000\n",
       "PumpMinutesRounded                         0.000000\n",
       "Notional Cost (£)                          0.000000\n",
       "NumCalls                                   0.106453\n",
       "dtype: float64"
      ]
     },
     "execution_count": 25,
     "metadata": {},
     "output_type": "execute_result"
    }
   ],
   "source": [
    "df_incident.isnull().sum()/len(df_incident)*100"
   ]
  },
  {
   "cell_type": "markdown",
   "id": "13065357-2069-4cac-806e-510a8002f688",
   "metadata": {
    "jp-MarkdownHeadingCollapsed": true
   },
   "source": [
    "# Analyse des valeurs uniques"
   ]
  },
  {
   "cell_type": "code",
   "execution_count": 69,
   "id": "96f52e62-ec47-4c6f-b10d-63ef77e3cb44",
   "metadata": {},
   "outputs": [
    {
     "data": {
      "text/plain": [
       "1608439"
      ]
     },
     "execution_count": 69,
     "metadata": {},
     "output_type": "execute_result"
    }
   ],
   "source": [
    "df_mobilisation['IncidentNumber'].nunique()"
   ]
  },
  {
   "cell_type": "code",
   "execution_count": 70,
   "id": "6b3b46d1-4d16-4260-90de-f1044346afa5",
   "metadata": {},
   "outputs": [
    {
     "data": {
      "text/plain": [
       "count\n",
       "1     986874\n",
       "2     494943\n",
       "3      85780\n",
       "5      23870\n",
       "4      15820\n",
       "6        942\n",
       "7        132\n",
       "8         68\n",
       "9          7\n",
       "11         2\n",
       "13         1\n",
       "Name: count, dtype: int64"
      ]
     },
     "execution_count": 70,
     "metadata": {},
     "output_type": "execute_result"
    }
   ],
   "source": [
    "df_mobilisation['IncidentNumber'].value_counts().value_counts()"
   ]
  },
  {
   "cell_type": "code",
   "execution_count": 71,
   "id": "ebeb3e47-22b7-40b6-8ab7-53d19eefb10d",
   "metadata": {},
   "outputs": [
    {
     "data": {
      "text/plain": [
       "PumpOrder\n",
       "1     1608439\n",
       "2      621565\n",
       "3      126622\n",
       "4       40842\n",
       "5       25022\n",
       "6        1152\n",
       "7         210\n",
       "8          78\n",
       "9          10\n",
       "11          3\n",
       "10          3\n",
       "12          1\n",
       "13          1\n",
       "Name: count, dtype: int64"
      ]
     },
     "execution_count": 71,
     "metadata": {},
     "output_type": "execute_result"
    }
   ],
   "source": [
    "df_mobilisation['PumpOrder'].value_counts()"
   ]
  },
  {
   "cell_type": "code",
   "execution_count": 11,
   "id": "891be13a-5c02-4496-9f88-52c6758a0555",
   "metadata": {},
   "outputs": [
    {
     "data": {
      "text/plain": [
       "1735980"
      ]
     },
     "execution_count": 11,
     "metadata": {},
     "output_type": "execute_result"
    }
   ],
   "source": [
    "df_incident['IncidentNumber'].nunique()"
   ]
  },
  {
   "cell_type": "code",
   "execution_count": 30,
   "id": "a9358e1f-f128-4c5d-9d53-573c5cac0d75",
   "metadata": {},
   "outputs": [
    {
     "data": {
      "text/plain": [
       "count\n",
       "1    1735980\n",
       "Name: count, dtype: int64"
      ]
     },
     "execution_count": 30,
     "metadata": {},
     "output_type": "execute_result"
    }
   ],
   "source": [
    "df_incident['IncidentNumber'].value_counts().value_counts()"
   ]
  },
  {
   "cell_type": "code",
   "execution_count": 14,
   "id": "3edbf4c1-ff03-46f0-9b3a-09697aa1f335",
   "metadata": {},
   "outputs": [
    {
     "name": "stdout",
     "output_type": "stream",
     "text": [
      "IncidentNumber 1735980\n",
      "DateOfCall 5691\n",
      "CalYear 16\n",
      "TimeOfCall 86391\n",
      "HourOfCall 24\n",
      "IncidentGroup 3\n",
      "StopCodeDescription 11\n",
      "SpecialServiceType 21\n",
      "PropertyCategory 9\n",
      "PropertyType 292\n",
      "AddressQualifier 11\n",
      "Postcode_full 118831\n",
      "Postcode_district 329\n",
      "UPRN 282472\n",
      "USRN 53572\n",
      "IncGeo_BoroughCode 33\n",
      "IncGeo_BoroughName 33\n",
      "ProperCase 33\n",
      "IncGeo_WardCode 899\n",
      "IncGeo_WardName 1484\n",
      "IncGeo_WardNameNew 1481\n",
      "Easting_m 51690\n",
      "Northing_m 40147\n",
      "Easting_rounded 574\n",
      "Northing_rounded 448\n",
      "Latitude 562967\n",
      "Longitude 565668\n",
      "FRS 1\n",
      "IncidentStationGround 103\n",
      "FirstPumpArriving_AttendanceTime 1200\n",
      "FirstPumpArriving_DeployedFromStation 117\n",
      "SecondPumpArriving_AttendanceTime 1200\n",
      "SecondPumpArriving_DeployedFromStation 114\n",
      "NumStationsWithPumpsAttending 23\n",
      "NumPumpsAttending 31\n",
      "PumpCount 128\n",
      "PumpMinutesRounded 2999\n",
      "Notional Cost (£) 6985\n",
      "NumCalls 98\n"
     ]
    }
   ],
   "source": [
    "for col in df_incident.columns:\n",
    "    print(col, df_incident[col].nunique())"
   ]
  },
  {
   "cell_type": "code",
   "execution_count": 16,
   "id": "3b957f27-da25-474c-860c-0d5a83c95207",
   "metadata": {},
   "outputs": [
    {
     "name": "stdout",
     "output_type": "stream",
     "text": [
      "IncidentNumber 1608439\n",
      "CalYear 16\n",
      "HourOfCall 24\n",
      "ResourceMobilisationId 2423948\n",
      "Resource_Code 187\n",
      "PerformanceReporting 3\n",
      "DateAndTimeMobilised 1633509\n",
      "DateAndTimeMobile 2376048\n",
      "DateAndTimeArrived 2408219\n",
      "TurnoutTimeSeconds 892\n",
      "TravelTimeSeconds 1193\n",
      "AttendanceTimeSeconds 1201\n",
      "DateAndTimeLeft 2364875\n",
      "DateAndTimeReturned 961091\n",
      "DeployedFromStation_Code 126\n",
      "DeployedFromStation_Name 126\n",
      "DeployedFromLocation 2\n",
      "PumpOrder 13\n",
      "PlusCode_Code 3\n",
      "PlusCode_Description 3\n",
      "DelayCodeId 10\n",
      "DelayCode_Description 10\n"
     ]
    }
   ],
   "source": [
    "for col in df_mobilisation.columns:\n",
    "    print(col, df_mobilisation[col].nunique())"
   ]
  },
  {
   "cell_type": "raw",
   "id": "72f7ad2c-5ee4-445a-8263-a7d3bab6c538",
   "metadata": {},
   "source": [
    "df_incident['NumPumpsAttending'].value_counts()\n",
    "# comment est-il possible d'avoir une valeur de 106 ?"
   ]
  },
  {
   "cell_type": "markdown",
   "id": "04ec352e-08e0-46df-87c7-f48fc4d6052a",
   "metadata": {
    "jp-MarkdownHeadingCollapsed": true
   },
   "source": [
    "# Analyse des redondances"
   ]
  },
  {
   "cell_type": "raw",
   "id": "b99a1c2a-e6e2-4004-bc70-63256411dc94",
   "metadata": {},
   "source": [
    "pd.crosstab(df_incident['IncGeo_BoroughCode'], df_incident['IncGeo_BoroughName'])"
   ]
  },
  {
   "cell_type": "raw",
   "id": "812e6fa5-e29e-42c8-9407-309e5891e5f7",
   "metadata": {},
   "source": [
    "pd.crosstab(df_incident['IncGeo_BoroughCode'], df_incident['ProperCase'])"
   ]
  },
  {
   "cell_type": "raw",
   "id": "6cecd0bf-f77e-4319-812f-b6be8fdb7048",
   "metadata": {},
   "source": [
    "pd.crosstab(df_mobilisation['DeployedFromStation_Code'], df_mobilisation['DeployedFromStation_Name'])"
   ]
  },
  {
   "cell_type": "raw",
   "id": "78eeb47b-6e19-40e5-b249-729ad09ebf99",
   "metadata": {},
   "source": [
    "pd.crosstab(df_mobilisation['DelayCodeId'], df_mobilisation['DelayCode_Description'])"
   ]
  },
  {
   "cell_type": "markdown",
   "id": "3d553abf-e7f2-48e2-b386-a73516bc9194",
   "metadata": {
    "jp-MarkdownHeadingCollapsed": true
   },
   "source": [
    "# Analyse des donnée de type \"FirstPump\""
   ]
  },
  {
   "cell_type": "code",
   "execution_count": 49,
   "id": "dfd78390-2b04-4e2e-8307-cb589ed65b46",
   "metadata": {},
   "outputs": [
    {
     "name": "stdout",
     "output_type": "stream",
     "text": [
      "['Battersea' nan 'Edmonton' ... 'Lee Green' 'Chingford' 'West Norwood']\n"
     ]
    }
   ],
   "source": [
    "print(df_incident['FirstPumpArriving_DeployedFromStation'].values)"
   ]
  },
  {
   "cell_type": "code",
   "execution_count": 36,
   "id": "b38cc86f-9bde-4d12-b5fa-9d31b59de930",
   "metadata": {},
   "outputs": [
    {
     "name": "stdout",
     "output_type": "stream",
     "text": [
      "133754\n"
     ]
    }
   ],
   "source": [
    "print(df_incident['FirstPumpArriving_AttendanceTime'].isna().sum(axis=0))"
   ]
  },
  {
   "cell_type": "code",
   "execution_count": 37,
   "id": "04caf718-8b78-4f73-89ca-df23b12469f9",
   "metadata": {},
   "outputs": [
    {
     "data": {
      "text/plain": [
       "1602226"
      ]
     },
     "execution_count": 37,
     "metadata": {},
     "output_type": "execute_result"
    }
   ],
   "source": [
    "1735980 - 133754"
   ]
  },
  {
   "cell_type": "code",
   "execution_count": 39,
   "id": "a22c3ad5-fe30-4ee4-b652-920a8b9b4990",
   "metadata": {},
   "outputs": [
    {
     "data": {
      "text/plain": [
       "6213"
      ]
     },
     "execution_count": 39,
     "metadata": {},
     "output_type": "execute_result"
    }
   ],
   "source": [
    "1608439 - 1602226"
   ]
  },
  {
   "cell_type": "markdown",
   "id": "60480d44-831d-48e6-9d4a-f9507d6eef02",
   "metadata": {},
   "source": [
    "# Analyse des numéros d'incidents"
   ]
  },
  {
   "cell_type": "markdown",
   "id": "27d0381c-2f88-4597-9479-57ff6db43e7b",
   "metadata": {
    "jp-MarkdownHeadingCollapsed": true
   },
   "source": [
    "## Analyse des numéros d'incidents dans Mobilisation"
   ]
  },
  {
   "cell_type": "code",
   "execution_count": 91,
   "id": "b004a880-d882-4cfa-bec9-44094b87a01a",
   "metadata": {},
   "outputs": [],
   "source": [
    "IncidentNumbers_in_MobilisationData = pd.Series(df_mobilisation['IncidentNumber'].unique())"
   ]
  },
  {
   "cell_type": "code",
   "execution_count": 92,
   "id": "dafba300-6d2e-4155-b7bd-c49811ff7ac5",
   "metadata": {},
   "outputs": [
    {
     "data": {
      "text/plain": [
       "1608439"
      ]
     },
     "execution_count": 92,
     "metadata": {},
     "output_type": "execute_result"
    }
   ],
   "source": [
    "len(IncidentNumbers_in_MobilisationData)"
   ]
  },
  {
   "cell_type": "code",
   "execution_count": 93,
   "id": "24a61cb3-45db-495b-a00b-4e54ef10c576",
   "metadata": {},
   "outputs": [
    {
     "data": {
      "text/plain": [
       "693226     160002-17112015\n",
       "693227     160003-17112015\n",
       "693228     160005-17112015\n",
       "693229     160006-17112015\n",
       "693230     160007-17112015\n",
       "                ...       \n",
       "1608434    125488-31072024\n",
       "1608435    125491-31072024\n",
       "1608436    125492-31072024\n",
       "1608437    125496-31072024\n",
       "1608438    125499-31072024\n",
       "Length: 910718, dtype: object"
      ]
     },
     "execution_count": 93,
     "metadata": {},
     "output_type": "execute_result"
    }
   ],
   "source": [
    "IncidentNumbers_in_MobilisationData[IncidentNumbers_in_MobilisationData.isin(df_incident['IncidentNumber'])]"
   ]
  },
  {
   "cell_type": "code",
   "execution_count": 94,
   "id": "f56b2db8-420a-4d2c-b843-68113beb43fe",
   "metadata": {},
   "outputs": [
    {
     "data": {
      "text/plain": [
       "0                235138081\n",
       "1                     2091\n",
       "2                     3091\n",
       "3                     5091\n",
       "4                     6091\n",
       "                ...       \n",
       "1607349    123498-28072024\n",
       "1607418    123632-28072024\n",
       "1607707    124134-29072024\n",
       "1607846    124371-29072024\n",
       "1607996    124663-29072024\n",
       "Length: 697721, dtype: object"
      ]
     },
     "execution_count": 94,
     "metadata": {},
     "output_type": "execute_result"
    }
   ],
   "source": [
    "IncidentNumbers_in_MobilisationData[~IncidentNumbers_in_MobilisationData.isin(df_incident['IncidentNumber'])]"
   ]
  },
  {
   "cell_type": "markdown",
   "id": "3f33b1c8-4f0c-4255-b520-3c7a6cb27a6a",
   "metadata": {
    "jp-MarkdownHeadingCollapsed": true
   },
   "source": [
    "## Analyse des numéros d'incidents dans Incident"
   ]
  },
  {
   "cell_type": "code",
   "execution_count": 73,
   "id": "890566e1-052a-42f6-863e-0131e16de2a9",
   "metadata": {},
   "outputs": [],
   "source": [
    "IncidentNumbers_in_IncidentData = df_incident['IncidentNumber']"
   ]
  },
  {
   "cell_type": "code",
   "execution_count": 95,
   "id": "7f3eb13e-5bbd-42bd-baeb-c22c95870367",
   "metadata": {},
   "outputs": [
    {
     "data": {
      "text/plain": [
       "1608439"
      ]
     },
     "execution_count": 95,
     "metadata": {},
     "output_type": "execute_result"
    }
   ],
   "source": [
    "910718 + 697721"
   ]
  },
  {
   "cell_type": "code",
   "execution_count": 81,
   "id": "66a9a362-8ebe-458b-bcb3-c431c3c41af9",
   "metadata": {},
   "outputs": [
    {
     "data": {
      "text/plain": [
       "768033     162970-23112015\n",
       "768219     160003-17112015\n",
       "768220     160002-17112015\n",
       "768221     160005-17112015\n",
       "768222     160006-17112015\n",
       "                ...       \n",
       "1735588    125489-31072024\n",
       "1735589    125491-31072024\n",
       "1735590    125492-31072024\n",
       "1735591    125496-31072024\n",
       "1735592    125499-31072024\n",
       "Name: IncidentNumber, Length: 910718, dtype: object"
      ]
     },
     "execution_count": 81,
     "metadata": {},
     "output_type": "execute_result"
    }
   ],
   "source": [
    "IncidentNumbers_in_IncidentData[IncidentNumbers_in_IncidentData.isin(df_mobilisation['IncidentNumber'])]"
   ]
  },
  {
   "cell_type": "code",
   "execution_count": 75,
   "id": "5a43af1c-d2e3-4e08-be00-e44c784341d9",
   "metadata": {},
   "outputs": [
    {
     "data": {
      "text/plain": [
       "0             235138081.00\n",
       "1                  1091.00\n",
       "2                  2091.00\n",
       "3                  3091.00\n",
       "4                  5091.00\n",
       "                ...       \n",
       "1735975    126223-31072024\n",
       "1735976    126225-31072024\n",
       "1735977    126229-31072024\n",
       "1735978    126233-31072024\n",
       "1735979    126234-31072024\n",
       "Name: IncidentNumber, Length: 825262, dtype: object"
      ]
     },
     "execution_count": 75,
     "metadata": {},
     "output_type": "execute_result"
    }
   ],
   "source": [
    "IncidentNumbers_in_IncidentData[~IncidentNumbers_in_IncidentData.isin(df_mobilisation['IncidentNumber'])]"
   ]
  },
  {
   "cell_type": "markdown",
   "id": "72f330d1-3948-44f3-bcdb-740bf01ff6d0",
   "metadata": {
    "jp-MarkdownHeadingCollapsed": true
   },
   "source": [
    "## Comparaison des numéros d'incidents entre les tables Incident et Mobilisation"
   ]
  },
  {
   "cell_type": "code",
   "execution_count": 76,
   "id": "2b78c6bd-41c6-4fdd-b29f-9727fe5be7ba",
   "metadata": {},
   "outputs": [
    {
     "data": {
      "text/plain": [
       "0             235138081.00\n",
       "1                  1091.00\n",
       "2                  2091.00\n",
       "3                  3091.00\n",
       "4                  5091.00\n",
       "                ...       \n",
       "1735975    126223-31072024\n",
       "1735976    126225-31072024\n",
       "1735977    126229-31072024\n",
       "1735978    126233-31072024\n",
       "1735979    126234-31072024\n",
       "Name: IncidentNumber, Length: 1735980, dtype: object"
      ]
     },
     "execution_count": 76,
     "metadata": {},
     "output_type": "execute_result"
    }
   ],
   "source": [
    "df_incident['IncidentNumber']"
   ]
  },
  {
   "cell_type": "code",
   "execution_count": 77,
   "id": "3cb97fd7-60b8-4939-b7de-0b5b88eaf683",
   "metadata": {},
   "outputs": [
    {
     "data": {
      "text/plain": [
       "0                235138081\n",
       "1                235138081\n",
       "2                     2091\n",
       "3                     3091\n",
       "4                     5091\n",
       "                ...       \n",
       "2423943    125491-31072024\n",
       "2423944    125492-31072024\n",
       "2423945    125496-31072024\n",
       "2423946    125499-31072024\n",
       "2423947    125323-30072024\n",
       "Name: IncidentNumber, Length: 2423948, dtype: object"
      ]
     },
     "execution_count": 77,
     "metadata": {},
     "output_type": "execute_result"
    }
   ],
   "source": [
    "df_mobilisation['IncidentNumber']"
   ]
  },
  {
   "cell_type": "code",
   "execution_count": 79,
   "id": "d8c56d0a-5487-4d24-9cc5-9eeee5301cc2",
   "metadata": {},
   "outputs": [
    {
     "data": {
      "text/html": [
       "<div>\n",
       "<style scoped>\n",
       "    .dataframe tbody tr th:only-of-type {\n",
       "        vertical-align: middle;\n",
       "    }\n",
       "\n",
       "    .dataframe tbody tr th {\n",
       "        vertical-align: top;\n",
       "    }\n",
       "\n",
       "    .dataframe thead th {\n",
       "        text-align: right;\n",
       "    }\n",
       "</style>\n",
       "<table border=\"1\" class=\"dataframe\">\n",
       "  <thead>\n",
       "    <tr style=\"text-align: right;\">\n",
       "      <th></th>\n",
       "      <th>IncidentNumber</th>\n",
       "      <th>CalYear</th>\n",
       "      <th>HourOfCall</th>\n",
       "      <th>ResourceMobilisationId</th>\n",
       "      <th>Resource_Code</th>\n",
       "      <th>PerformanceReporting</th>\n",
       "      <th>DateAndTimeMobilised</th>\n",
       "      <th>DateAndTimeMobile</th>\n",
       "      <th>DateAndTimeArrived</th>\n",
       "      <th>TurnoutTimeSeconds</th>\n",
       "      <th>...</th>\n",
       "      <th>DateAndTimeLeft</th>\n",
       "      <th>DateAndTimeReturned</th>\n",
       "      <th>DeployedFromStation_Code</th>\n",
       "      <th>DeployedFromStation_Name</th>\n",
       "      <th>DeployedFromLocation</th>\n",
       "      <th>PumpOrder</th>\n",
       "      <th>PlusCode_Code</th>\n",
       "      <th>PlusCode_Description</th>\n",
       "      <th>DelayCodeId</th>\n",
       "      <th>DelayCode_Description</th>\n",
       "    </tr>\n",
       "  </thead>\n",
       "  <tbody>\n",
       "    <tr>\n",
       "      <th>2423938</th>\n",
       "      <td>125489-31072024</td>\n",
       "      <td>2024</td>\n",
       "      <td>0</td>\n",
       "      <td>6725200</td>\n",
       "      <td>A242</td>\n",
       "      <td>1</td>\n",
       "      <td>2024-07-30 23:40:00</td>\n",
       "      <td>2024-07-30 23:41:41</td>\n",
       "      <td>2024-07-30 23:44:40</td>\n",
       "      <td>101.0</td>\n",
       "      <td>...</td>\n",
       "      <td>2024-07-30 23:59:36</td>\n",
       "      <td>NaN</td>\n",
       "      <td>A24</td>\n",
       "      <td>Soho</td>\n",
       "      <td>Home Station</td>\n",
       "      <td>1</td>\n",
       "      <td>Initial</td>\n",
       "      <td>Initial Mobilisation</td>\n",
       "      <td>NaN</td>\n",
       "      <td>NaN</td>\n",
       "    </tr>\n",
       "    <tr>\n",
       "      <th>2423939</th>\n",
       "      <td>125489-31072024</td>\n",
       "      <td>2024</td>\n",
       "      <td>0</td>\n",
       "      <td>6725201</td>\n",
       "      <td>A241</td>\n",
       "      <td>2</td>\n",
       "      <td>2024-07-30 23:40:00</td>\n",
       "      <td>2024-07-30 23:41:28</td>\n",
       "      <td>2024-07-30 23:44:51</td>\n",
       "      <td>88.0</td>\n",
       "      <td>...</td>\n",
       "      <td>2024-07-30 23:57:03</td>\n",
       "      <td>NaN</td>\n",
       "      <td>A24</td>\n",
       "      <td>Soho</td>\n",
       "      <td>Home Station</td>\n",
       "      <td>2</td>\n",
       "      <td>Initial</td>\n",
       "      <td>Initial Mobilisation</td>\n",
       "      <td>NaN</td>\n",
       "      <td>NaN</td>\n",
       "    </tr>\n",
       "    <tr>\n",
       "      <th>2423940</th>\n",
       "      <td>125489-31072024</td>\n",
       "      <td>2024</td>\n",
       "      <td>0</td>\n",
       "      <td>6725202</td>\n",
       "      <td>H221</td>\n",
       "      <td>Not Used</td>\n",
       "      <td>2024-07-30 23:40:00</td>\n",
       "      <td>2024-07-30 23:41:53</td>\n",
       "      <td>2024-07-30 23:46:30</td>\n",
       "      <td>113.0</td>\n",
       "      <td>...</td>\n",
       "      <td>2024-07-30 23:54:47</td>\n",
       "      <td>NaN</td>\n",
       "      <td>H22</td>\n",
       "      <td>Lambeth</td>\n",
       "      <td>Home Station</td>\n",
       "      <td>3</td>\n",
       "      <td>Initial</td>\n",
       "      <td>Initial Mobilisation</td>\n",
       "      <td>NaN</td>\n",
       "      <td>NaN</td>\n",
       "    </tr>\n",
       "    <tr>\n",
       "      <th>2423941</th>\n",
       "      <td>125488-31072024</td>\n",
       "      <td>2024</td>\n",
       "      <td>0</td>\n",
       "      <td>6725209</td>\n",
       "      <td>A322</td>\n",
       "      <td>1</td>\n",
       "      <td>2024-07-30 23:47:23</td>\n",
       "      <td>2024-07-30 23:48:48</td>\n",
       "      <td>2024-07-30 23:50:37</td>\n",
       "      <td>85.0</td>\n",
       "      <td>...</td>\n",
       "      <td>2024-07-30 23:58:17</td>\n",
       "      <td>NaN</td>\n",
       "      <td>A32</td>\n",
       "      <td>Hornsey</td>\n",
       "      <td>Home Station</td>\n",
       "      <td>1</td>\n",
       "      <td>Initial</td>\n",
       "      <td>Initial Mobilisation</td>\n",
       "      <td>NaN</td>\n",
       "      <td>NaN</td>\n",
       "    </tr>\n",
       "    <tr>\n",
       "      <th>2423942</th>\n",
       "      <td>125491-31072024</td>\n",
       "      <td>2024</td>\n",
       "      <td>0</td>\n",
       "      <td>6725210</td>\n",
       "      <td>F421</td>\n",
       "      <td>1</td>\n",
       "      <td>2024-07-30 23:48:42</td>\n",
       "      <td>2024-07-30 23:50:00</td>\n",
       "      <td>2024-07-30 23:58:17</td>\n",
       "      <td>78.0</td>\n",
       "      <td>...</td>\n",
       "      <td>2024-07-31 00:08:03</td>\n",
       "      <td>NaN</td>\n",
       "      <td>F42</td>\n",
       "      <td>Ilford</td>\n",
       "      <td>Home Station</td>\n",
       "      <td>1</td>\n",
       "      <td>Initial</td>\n",
       "      <td>Initial Mobilisation</td>\n",
       "      <td>12.0</td>\n",
       "      <td>Not held up</td>\n",
       "    </tr>\n",
       "    <tr>\n",
       "      <th>2423943</th>\n",
       "      <td>125491-31072024</td>\n",
       "      <td>2024</td>\n",
       "      <td>0</td>\n",
       "      <td>6725211</td>\n",
       "      <td>F301</td>\n",
       "      <td>2</td>\n",
       "      <td>2024-07-30 23:48:42</td>\n",
       "      <td>2024-07-30 23:50:25</td>\n",
       "      <td>2024-07-30 23:59:32</td>\n",
       "      <td>103.0</td>\n",
       "      <td>...</td>\n",
       "      <td>2024-07-31 00:01:41</td>\n",
       "      <td>NaN</td>\n",
       "      <td>F30</td>\n",
       "      <td>Leytonstone</td>\n",
       "      <td>Home Station</td>\n",
       "      <td>2</td>\n",
       "      <td>Initial</td>\n",
       "      <td>Initial Mobilisation</td>\n",
       "      <td>12.0</td>\n",
       "      <td>Not held up</td>\n",
       "    </tr>\n",
       "    <tr>\n",
       "      <th>2423944</th>\n",
       "      <td>125492-31072024</td>\n",
       "      <td>2024</td>\n",
       "      <td>0</td>\n",
       "      <td>6725212</td>\n",
       "      <td>F261</td>\n",
       "      <td>1</td>\n",
       "      <td>2024-07-30 23:49:43</td>\n",
       "      <td>2024-07-30 23:52:35</td>\n",
       "      <td>2024-07-30 23:56:04</td>\n",
       "      <td>172.0</td>\n",
       "      <td>...</td>\n",
       "      <td>2024-07-31 00:10:25</td>\n",
       "      <td>NaN</td>\n",
       "      <td>F26</td>\n",
       "      <td>Bethnal Green</td>\n",
       "      <td>Home Station</td>\n",
       "      <td>1</td>\n",
       "      <td>Initial</td>\n",
       "      <td>Initial Mobilisation</td>\n",
       "      <td>11.0</td>\n",
       "      <td>Mob/Radio problems when mobilised</td>\n",
       "    </tr>\n",
       "    <tr>\n",
       "      <th>2423945</th>\n",
       "      <td>125496-31072024</td>\n",
       "      <td>2024</td>\n",
       "      <td>0</td>\n",
       "      <td>6725214</td>\n",
       "      <td>A301</td>\n",
       "      <td>1</td>\n",
       "      <td>2024-07-30 23:54:01</td>\n",
       "      <td>2024-07-30 23:55:20</td>\n",
       "      <td>2024-07-30 23:59:09</td>\n",
       "      <td>79.0</td>\n",
       "      <td>...</td>\n",
       "      <td>2024-07-31 00:21:08</td>\n",
       "      <td>NaN</td>\n",
       "      <td>A30</td>\n",
       "      <td>Islington</td>\n",
       "      <td>Home Station</td>\n",
       "      <td>1</td>\n",
       "      <td>Initial</td>\n",
       "      <td>Initial Mobilisation</td>\n",
       "      <td>NaN</td>\n",
       "      <td>NaN</td>\n",
       "    </tr>\n",
       "    <tr>\n",
       "      <th>2423946</th>\n",
       "      <td>125499-31072024</td>\n",
       "      <td>2024</td>\n",
       "      <td>0</td>\n",
       "      <td>6725216</td>\n",
       "      <td>F391</td>\n",
       "      <td>1</td>\n",
       "      <td>2024-07-30 23:54:45</td>\n",
       "      <td>2024-07-30 23:56:22</td>\n",
       "      <td>2024-07-30 23:59:34</td>\n",
       "      <td>97.0</td>\n",
       "      <td>...</td>\n",
       "      <td>2024-07-31 00:06:12</td>\n",
       "      <td>NaN</td>\n",
       "      <td>F39</td>\n",
       "      <td>Hornchurch</td>\n",
       "      <td>Home Station</td>\n",
       "      <td>1</td>\n",
       "      <td>Initial</td>\n",
       "      <td>Initial Mobilisation</td>\n",
       "      <td>NaN</td>\n",
       "      <td>NaN</td>\n",
       "    </tr>\n",
       "    <tr>\n",
       "      <th>2423947</th>\n",
       "      <td>125323-30072024</td>\n",
       "      <td>2024</td>\n",
       "      <td>20</td>\n",
       "      <td>6725217</td>\n",
       "      <td>E271</td>\n",
       "      <td>Not Used</td>\n",
       "      <td>2024-07-30 23:57:58</td>\n",
       "      <td>2024-07-30 23:58:07</td>\n",
       "      <td>2024-07-31 00:01:29</td>\n",
       "      <td>9.0</td>\n",
       "      <td>...</td>\n",
       "      <td>2024-07-31 00:05:28</td>\n",
       "      <td>NaN</td>\n",
       "      <td>E27</td>\n",
       "      <td>Erith</td>\n",
       "      <td>Home Station</td>\n",
       "      <td>3</td>\n",
       "      <td>Initial</td>\n",
       "      <td>Initial Mobilisation</td>\n",
       "      <td>NaN</td>\n",
       "      <td>NaN</td>\n",
       "    </tr>\n",
       "  </tbody>\n",
       "</table>\n",
       "<p>10 rows × 22 columns</p>\n",
       "</div>"
      ],
      "text/plain": [
       "          IncidentNumber  CalYear  HourOfCall  ResourceMobilisationId  \\\n",
       "2423938  125489-31072024     2024           0                 6725200   \n",
       "2423939  125489-31072024     2024           0                 6725201   \n",
       "2423940  125489-31072024     2024           0                 6725202   \n",
       "2423941  125488-31072024     2024           0                 6725209   \n",
       "2423942  125491-31072024     2024           0                 6725210   \n",
       "2423943  125491-31072024     2024           0                 6725211   \n",
       "2423944  125492-31072024     2024           0                 6725212   \n",
       "2423945  125496-31072024     2024           0                 6725214   \n",
       "2423946  125499-31072024     2024           0                 6725216   \n",
       "2423947  125323-30072024     2024          20                 6725217   \n",
       "\n",
       "        Resource_Code PerformanceReporting DateAndTimeMobilised  \\\n",
       "2423938          A242                    1  2024-07-30 23:40:00   \n",
       "2423939          A241                    2  2024-07-30 23:40:00   \n",
       "2423940          H221             Not Used  2024-07-30 23:40:00   \n",
       "2423941          A322                    1  2024-07-30 23:47:23   \n",
       "2423942          F421                    1  2024-07-30 23:48:42   \n",
       "2423943          F301                    2  2024-07-30 23:48:42   \n",
       "2423944          F261                    1  2024-07-30 23:49:43   \n",
       "2423945          A301                    1  2024-07-30 23:54:01   \n",
       "2423946          F391                    1  2024-07-30 23:54:45   \n",
       "2423947          E271             Not Used  2024-07-30 23:57:58   \n",
       "\n",
       "           DateAndTimeMobile   DateAndTimeArrived  TurnoutTimeSeconds  ...  \\\n",
       "2423938  2024-07-30 23:41:41  2024-07-30 23:44:40               101.0  ...   \n",
       "2423939  2024-07-30 23:41:28  2024-07-30 23:44:51                88.0  ...   \n",
       "2423940  2024-07-30 23:41:53  2024-07-30 23:46:30               113.0  ...   \n",
       "2423941  2024-07-30 23:48:48  2024-07-30 23:50:37                85.0  ...   \n",
       "2423942  2024-07-30 23:50:00  2024-07-30 23:58:17                78.0  ...   \n",
       "2423943  2024-07-30 23:50:25  2024-07-30 23:59:32               103.0  ...   \n",
       "2423944  2024-07-30 23:52:35  2024-07-30 23:56:04               172.0  ...   \n",
       "2423945  2024-07-30 23:55:20  2024-07-30 23:59:09                79.0  ...   \n",
       "2423946  2024-07-30 23:56:22  2024-07-30 23:59:34                97.0  ...   \n",
       "2423947  2024-07-30 23:58:07  2024-07-31 00:01:29                 9.0  ...   \n",
       "\n",
       "             DateAndTimeLeft  DateAndTimeReturned DeployedFromStation_Code  \\\n",
       "2423938  2024-07-30 23:59:36                  NaN                      A24   \n",
       "2423939  2024-07-30 23:57:03                  NaN                      A24   \n",
       "2423940  2024-07-30 23:54:47                  NaN                      H22   \n",
       "2423941  2024-07-30 23:58:17                  NaN                      A32   \n",
       "2423942  2024-07-31 00:08:03                  NaN                      F42   \n",
       "2423943  2024-07-31 00:01:41                  NaN                      F30   \n",
       "2423944  2024-07-31 00:10:25                  NaN                      F26   \n",
       "2423945  2024-07-31 00:21:08                  NaN                      A30   \n",
       "2423946  2024-07-31 00:06:12                  NaN                      F39   \n",
       "2423947  2024-07-31 00:05:28                  NaN                      E27   \n",
       "\n",
       "        DeployedFromStation_Name DeployedFromLocation PumpOrder PlusCode_Code  \\\n",
       "2423938                     Soho         Home Station         1       Initial   \n",
       "2423939                     Soho         Home Station         2       Initial   \n",
       "2423940                  Lambeth         Home Station         3       Initial   \n",
       "2423941                  Hornsey         Home Station         1       Initial   \n",
       "2423942                   Ilford         Home Station         1       Initial   \n",
       "2423943              Leytonstone         Home Station         2       Initial   \n",
       "2423944            Bethnal Green         Home Station         1       Initial   \n",
       "2423945                Islington         Home Station         1       Initial   \n",
       "2423946               Hornchurch         Home Station         1       Initial   \n",
       "2423947                    Erith         Home Station         3       Initial   \n",
       "\n",
       "         PlusCode_Description DelayCodeId              DelayCode_Description  \n",
       "2423938  Initial Mobilisation         NaN                                NaN  \n",
       "2423939  Initial Mobilisation         NaN                                NaN  \n",
       "2423940  Initial Mobilisation         NaN                                NaN  \n",
       "2423941  Initial Mobilisation         NaN                                NaN  \n",
       "2423942  Initial Mobilisation        12.0                        Not held up  \n",
       "2423943  Initial Mobilisation        12.0                        Not held up  \n",
       "2423944  Initial Mobilisation        11.0  Mob/Radio problems when mobilised  \n",
       "2423945  Initial Mobilisation         NaN                                NaN  \n",
       "2423946  Initial Mobilisation         NaN                                NaN  \n",
       "2423947  Initial Mobilisation         NaN                                NaN  \n",
       "\n",
       "[10 rows x 22 columns]"
      ]
     },
     "execution_count": 79,
     "metadata": {},
     "output_type": "execute_result"
    }
   ],
   "source": [
    "df_mobilisation.tail(10)"
   ]
  },
  {
   "cell_type": "code",
   "execution_count": 80,
   "id": "8b2df804-e7bc-47df-b9b4-214b26cebfa0",
   "metadata": {},
   "outputs": [
    {
     "data": {
      "text/html": [
       "<div>\n",
       "<style scoped>\n",
       "    .dataframe tbody tr th:only-of-type {\n",
       "        vertical-align: middle;\n",
       "    }\n",
       "\n",
       "    .dataframe tbody tr th {\n",
       "        vertical-align: top;\n",
       "    }\n",
       "\n",
       "    .dataframe thead th {\n",
       "        text-align: right;\n",
       "    }\n",
       "</style>\n",
       "<table border=\"1\" class=\"dataframe\">\n",
       "  <thead>\n",
       "    <tr style=\"text-align: right;\">\n",
       "      <th></th>\n",
       "      <th>IncidentNumber</th>\n",
       "      <th>DateOfCall</th>\n",
       "      <th>CalYear</th>\n",
       "      <th>TimeOfCall</th>\n",
       "      <th>HourOfCall</th>\n",
       "      <th>IncidentGroup</th>\n",
       "      <th>StopCodeDescription</th>\n",
       "      <th>SpecialServiceType</th>\n",
       "      <th>PropertyCategory</th>\n",
       "      <th>PropertyType</th>\n",
       "      <th>...</th>\n",
       "      <th>FirstPumpArriving_AttendanceTime</th>\n",
       "      <th>FirstPumpArriving_DeployedFromStation</th>\n",
       "      <th>SecondPumpArriving_AttendanceTime</th>\n",
       "      <th>SecondPumpArriving_DeployedFromStation</th>\n",
       "      <th>NumStationsWithPumpsAttending</th>\n",
       "      <th>NumPumpsAttending</th>\n",
       "      <th>PumpCount</th>\n",
       "      <th>PumpMinutesRounded</th>\n",
       "      <th>Notional Cost (£)</th>\n",
       "      <th>NumCalls</th>\n",
       "    </tr>\n",
       "  </thead>\n",
       "  <tbody>\n",
       "    <tr>\n",
       "      <th>1735970</th>\n",
       "      <td>126214-31072024</td>\n",
       "      <td>2024-07-31</td>\n",
       "      <td>2024</td>\n",
       "      <td>23:19:58</td>\n",
       "      <td>23</td>\n",
       "      <td>Special Service</td>\n",
       "      <td>Special Service</td>\n",
       "      <td>Effecting entry/exit</td>\n",
       "      <td>Dwelling</td>\n",
       "      <td>Purpose Built Flats/Maisonettes - 4 to 9 storeys</td>\n",
       "      <td>...</td>\n",
       "      <td>164.0</td>\n",
       "      <td>Kensington</td>\n",
       "      <td>NaN</td>\n",
       "      <td>NaN</td>\n",
       "      <td>1.0</td>\n",
       "      <td>1.0</td>\n",
       "      <td>1</td>\n",
       "      <td>60</td>\n",
       "      <td>430</td>\n",
       "      <td>1.0</td>\n",
       "    </tr>\n",
       "    <tr>\n",
       "      <th>1735971</th>\n",
       "      <td>126215-31072024</td>\n",
       "      <td>2024-07-31</td>\n",
       "      <td>2024</td>\n",
       "      <td>23:24:30</td>\n",
       "      <td>23</td>\n",
       "      <td>False Alarm</td>\n",
       "      <td>False alarm - Good intent</td>\n",
       "      <td>NaN</td>\n",
       "      <td>Outdoor Structure</td>\n",
       "      <td>Railings</td>\n",
       "      <td>...</td>\n",
       "      <td>262.0</td>\n",
       "      <td>Soho</td>\n",
       "      <td>NaN</td>\n",
       "      <td>NaN</td>\n",
       "      <td>1.0</td>\n",
       "      <td>1.0</td>\n",
       "      <td>1</td>\n",
       "      <td>60</td>\n",
       "      <td>430</td>\n",
       "      <td>1.0</td>\n",
       "    </tr>\n",
       "    <tr>\n",
       "      <th>1735972</th>\n",
       "      <td>126217-31072024</td>\n",
       "      <td>2024-07-31</td>\n",
       "      <td>2024</td>\n",
       "      <td>23:27:30</td>\n",
       "      <td>23</td>\n",
       "      <td>Fire</td>\n",
       "      <td>Primary Fire</td>\n",
       "      <td>NaN</td>\n",
       "      <td>Dwelling</td>\n",
       "      <td>House - single occupancy</td>\n",
       "      <td>...</td>\n",
       "      <td>253.0</td>\n",
       "      <td>Brixton</td>\n",
       "      <td>320.0</td>\n",
       "      <td>Lambeth</td>\n",
       "      <td>2.0</td>\n",
       "      <td>2.0</td>\n",
       "      <td>3</td>\n",
       "      <td>296</td>\n",
       "      <td>2121</td>\n",
       "      <td>7.0</td>\n",
       "    </tr>\n",
       "    <tr>\n",
       "      <th>1735973</th>\n",
       "      <td>126221-31072024</td>\n",
       "      <td>2024-07-31</td>\n",
       "      <td>2024</td>\n",
       "      <td>23:31:52</td>\n",
       "      <td>23</td>\n",
       "      <td>False Alarm</td>\n",
       "      <td>AFA</td>\n",
       "      <td>NaN</td>\n",
       "      <td>Non Residential</td>\n",
       "      <td>Purpose built office</td>\n",
       "      <td>...</td>\n",
       "      <td>484.0</td>\n",
       "      <td>Soho</td>\n",
       "      <td>NaN</td>\n",
       "      <td>NaN</td>\n",
       "      <td>1.0</td>\n",
       "      <td>1.0</td>\n",
       "      <td>1</td>\n",
       "      <td>60</td>\n",
       "      <td>430</td>\n",
       "      <td>1.0</td>\n",
       "    </tr>\n",
       "    <tr>\n",
       "      <th>1735974</th>\n",
       "      <td>126222-31072024</td>\n",
       "      <td>2024-07-31</td>\n",
       "      <td>2024</td>\n",
       "      <td>23:31:58</td>\n",
       "      <td>23</td>\n",
       "      <td>Fire</td>\n",
       "      <td>Secondary Fire</td>\n",
       "      <td>NaN</td>\n",
       "      <td>Outdoor</td>\n",
       "      <td>Heathland</td>\n",
       "      <td>...</td>\n",
       "      <td>353.0</td>\n",
       "      <td>Erith</td>\n",
       "      <td>NaN</td>\n",
       "      <td>NaN</td>\n",
       "      <td>1.0</td>\n",
       "      <td>1.0</td>\n",
       "      <td>1</td>\n",
       "      <td>60</td>\n",
       "      <td>430</td>\n",
       "      <td>2.0</td>\n",
       "    </tr>\n",
       "    <tr>\n",
       "      <th>1735975</th>\n",
       "      <td>126223-31072024</td>\n",
       "      <td>2024-07-31</td>\n",
       "      <td>2024</td>\n",
       "      <td>23:32:33</td>\n",
       "      <td>23</td>\n",
       "      <td>Special Service</td>\n",
       "      <td>Special Service</td>\n",
       "      <td>No action (not false alarm)</td>\n",
       "      <td>Dwelling</td>\n",
       "      <td>Purpose Built Flats/Maisonettes - Up to 3 stor...</td>\n",
       "      <td>...</td>\n",
       "      <td>394.0</td>\n",
       "      <td>Homerton</td>\n",
       "      <td>NaN</td>\n",
       "      <td>NaN</td>\n",
       "      <td>1.0</td>\n",
       "      <td>1.0</td>\n",
       "      <td>1</td>\n",
       "      <td>60</td>\n",
       "      <td>430</td>\n",
       "      <td>1.0</td>\n",
       "    </tr>\n",
       "    <tr>\n",
       "      <th>1735976</th>\n",
       "      <td>126225-31072024</td>\n",
       "      <td>2024-07-31</td>\n",
       "      <td>2024</td>\n",
       "      <td>23:33:47</td>\n",
       "      <td>23</td>\n",
       "      <td>False Alarm</td>\n",
       "      <td>AFA</td>\n",
       "      <td>NaN</td>\n",
       "      <td>Other Residential</td>\n",
       "      <td>Student Hall of Residence</td>\n",
       "      <td>...</td>\n",
       "      <td>238.0</td>\n",
       "      <td>Kentish Town</td>\n",
       "      <td>278.0</td>\n",
       "      <td>Euston</td>\n",
       "      <td>2.0</td>\n",
       "      <td>2.0</td>\n",
       "      <td>2</td>\n",
       "      <td>60</td>\n",
       "      <td>430</td>\n",
       "      <td>1.0</td>\n",
       "    </tr>\n",
       "    <tr>\n",
       "      <th>1735977</th>\n",
       "      <td>126229-31072024</td>\n",
       "      <td>2024-07-31</td>\n",
       "      <td>2024</td>\n",
       "      <td>23:38:05</td>\n",
       "      <td>23</td>\n",
       "      <td>Special Service</td>\n",
       "      <td>Special Service</td>\n",
       "      <td>Assist other agencies</td>\n",
       "      <td>Dwelling</td>\n",
       "      <td>Converted Flat/Maisonettes - 3 or more storeys</td>\n",
       "      <td>...</td>\n",
       "      <td>246.0</td>\n",
       "      <td>Lee Green</td>\n",
       "      <td>NaN</td>\n",
       "      <td>NaN</td>\n",
       "      <td>1.0</td>\n",
       "      <td>1.0</td>\n",
       "      <td>1</td>\n",
       "      <td>60</td>\n",
       "      <td>430</td>\n",
       "      <td>1.0</td>\n",
       "    </tr>\n",
       "    <tr>\n",
       "      <th>1735978</th>\n",
       "      <td>126233-31072024</td>\n",
       "      <td>2024-07-31</td>\n",
       "      <td>2024</td>\n",
       "      <td>23:49:03</td>\n",
       "      <td>23</td>\n",
       "      <td>Special Service</td>\n",
       "      <td>Special Service</td>\n",
       "      <td>Effecting entry/exit</td>\n",
       "      <td>Dwelling</td>\n",
       "      <td>House - single occupancy</td>\n",
       "      <td>...</td>\n",
       "      <td>656.0</td>\n",
       "      <td>Chingford</td>\n",
       "      <td>NaN</td>\n",
       "      <td>NaN</td>\n",
       "      <td>1.0</td>\n",
       "      <td>1.0</td>\n",
       "      <td>1</td>\n",
       "      <td>63</td>\n",
       "      <td>452</td>\n",
       "      <td>1.0</td>\n",
       "    </tr>\n",
       "    <tr>\n",
       "      <th>1735979</th>\n",
       "      <td>126234-31072024</td>\n",
       "      <td>2024-07-31</td>\n",
       "      <td>2024</td>\n",
       "      <td>23:49:33</td>\n",
       "      <td>23</td>\n",
       "      <td>False Alarm</td>\n",
       "      <td>False alarm - Good intent</td>\n",
       "      <td>NaN</td>\n",
       "      <td>Dwelling</td>\n",
       "      <td>Converted Flat/Maisonette - Up to 2 storeys</td>\n",
       "      <td>...</td>\n",
       "      <td>276.0</td>\n",
       "      <td>West Norwood</td>\n",
       "      <td>NaN</td>\n",
       "      <td>NaN</td>\n",
       "      <td>1.0</td>\n",
       "      <td>1.0</td>\n",
       "      <td>1</td>\n",
       "      <td>60</td>\n",
       "      <td>430</td>\n",
       "      <td>1.0</td>\n",
       "    </tr>\n",
       "  </tbody>\n",
       "</table>\n",
       "<p>10 rows × 39 columns</p>\n",
       "</div>"
      ],
      "text/plain": [
       "          IncidentNumber  DateOfCall  CalYear TimeOfCall  HourOfCall  \\\n",
       "1735970  126214-31072024  2024-07-31     2024   23:19:58          23   \n",
       "1735971  126215-31072024  2024-07-31     2024   23:24:30          23   \n",
       "1735972  126217-31072024  2024-07-31     2024   23:27:30          23   \n",
       "1735973  126221-31072024  2024-07-31     2024   23:31:52          23   \n",
       "1735974  126222-31072024  2024-07-31     2024   23:31:58          23   \n",
       "1735975  126223-31072024  2024-07-31     2024   23:32:33          23   \n",
       "1735976  126225-31072024  2024-07-31     2024   23:33:47          23   \n",
       "1735977  126229-31072024  2024-07-31     2024   23:38:05          23   \n",
       "1735978  126233-31072024  2024-07-31     2024   23:49:03          23   \n",
       "1735979  126234-31072024  2024-07-31     2024   23:49:33          23   \n",
       "\n",
       "           IncidentGroup        StopCodeDescription  \\\n",
       "1735970  Special Service            Special Service   \n",
       "1735971      False Alarm  False alarm - Good intent   \n",
       "1735972             Fire               Primary Fire   \n",
       "1735973      False Alarm                        AFA   \n",
       "1735974             Fire             Secondary Fire   \n",
       "1735975  Special Service            Special Service   \n",
       "1735976      False Alarm                        AFA   \n",
       "1735977  Special Service            Special Service   \n",
       "1735978  Special Service            Special Service   \n",
       "1735979      False Alarm  False alarm - Good intent   \n",
       "\n",
       "                  SpecialServiceType   PropertyCategory  \\\n",
       "1735970         Effecting entry/exit           Dwelling   \n",
       "1735971                          NaN  Outdoor Structure   \n",
       "1735972                          NaN           Dwelling   \n",
       "1735973                          NaN    Non Residential   \n",
       "1735974                          NaN            Outdoor   \n",
       "1735975  No action (not false alarm)           Dwelling   \n",
       "1735976                          NaN  Other Residential   \n",
       "1735977        Assist other agencies           Dwelling   \n",
       "1735978         Effecting entry/exit           Dwelling   \n",
       "1735979                          NaN           Dwelling   \n",
       "\n",
       "                                              PropertyType  ...  \\\n",
       "1735970  Purpose Built Flats/Maisonettes - 4 to 9 storeys   ...   \n",
       "1735971                                           Railings  ...   \n",
       "1735972                          House - single occupancy   ...   \n",
       "1735973                              Purpose built office   ...   \n",
       "1735974                                         Heathland   ...   \n",
       "1735975  Purpose Built Flats/Maisonettes - Up to 3 stor...  ...   \n",
       "1735976                         Student Hall of Residence   ...   \n",
       "1735977     Converted Flat/Maisonettes - 3 or more storeys  ...   \n",
       "1735978                          House - single occupancy   ...   \n",
       "1735979       Converted Flat/Maisonette - Up to 2 storeys   ...   \n",
       "\n",
       "        FirstPumpArriving_AttendanceTime  \\\n",
       "1735970                            164.0   \n",
       "1735971                            262.0   \n",
       "1735972                            253.0   \n",
       "1735973                            484.0   \n",
       "1735974                            353.0   \n",
       "1735975                            394.0   \n",
       "1735976                            238.0   \n",
       "1735977                            246.0   \n",
       "1735978                            656.0   \n",
       "1735979                            276.0   \n",
       "\n",
       "        FirstPumpArriving_DeployedFromStation  \\\n",
       "1735970                            Kensington   \n",
       "1735971                                  Soho   \n",
       "1735972                               Brixton   \n",
       "1735973                                  Soho   \n",
       "1735974                                 Erith   \n",
       "1735975                              Homerton   \n",
       "1735976                          Kentish Town   \n",
       "1735977                             Lee Green   \n",
       "1735978                             Chingford   \n",
       "1735979                          West Norwood   \n",
       "\n",
       "        SecondPumpArriving_AttendanceTime  \\\n",
       "1735970                               NaN   \n",
       "1735971                               NaN   \n",
       "1735972                             320.0   \n",
       "1735973                               NaN   \n",
       "1735974                               NaN   \n",
       "1735975                               NaN   \n",
       "1735976                             278.0   \n",
       "1735977                               NaN   \n",
       "1735978                               NaN   \n",
       "1735979                               NaN   \n",
       "\n",
       "         SecondPumpArriving_DeployedFromStation  \\\n",
       "1735970                                     NaN   \n",
       "1735971                                     NaN   \n",
       "1735972                                 Lambeth   \n",
       "1735973                                     NaN   \n",
       "1735974                                     NaN   \n",
       "1735975                                     NaN   \n",
       "1735976                                  Euston   \n",
       "1735977                                     NaN   \n",
       "1735978                                     NaN   \n",
       "1735979                                     NaN   \n",
       "\n",
       "         NumStationsWithPumpsAttending NumPumpsAttending PumpCount  \\\n",
       "1735970                            1.0               1.0         1   \n",
       "1735971                            1.0               1.0         1   \n",
       "1735972                            2.0               2.0         3   \n",
       "1735973                            1.0               1.0         1   \n",
       "1735974                            1.0               1.0         1   \n",
       "1735975                            1.0               1.0         1   \n",
       "1735976                            2.0               2.0         2   \n",
       "1735977                            1.0               1.0         1   \n",
       "1735978                            1.0               1.0         1   \n",
       "1735979                            1.0               1.0         1   \n",
       "\n",
       "        PumpMinutesRounded Notional Cost (£) NumCalls  \n",
       "1735970                 60               430      1.0  \n",
       "1735971                 60               430      1.0  \n",
       "1735972                296              2121      7.0  \n",
       "1735973                 60               430      1.0  \n",
       "1735974                 60               430      2.0  \n",
       "1735975                 60               430      1.0  \n",
       "1735976                 60               430      1.0  \n",
       "1735977                 60               430      1.0  \n",
       "1735978                 63               452      1.0  \n",
       "1735979                 60               430      1.0  \n",
       "\n",
       "[10 rows x 39 columns]"
      ]
     },
     "execution_count": 80,
     "metadata": {},
     "output_type": "execute_result"
    }
   ],
   "source": [
    "df_incident.tail(10)"
   ]
  }
 ],
 "metadata": {
  "kernelspec": {
   "display_name": "Python 3 (ipykernel)",
   "language": "python",
   "name": "python3"
  },
  "language_info": {
   "codemirror_mode": {
    "name": "ipython",
    "version": 3
   },
   "file_extension": ".py",
   "mimetype": "text/x-python",
   "name": "python",
   "nbconvert_exporter": "python",
   "pygments_lexer": "ipython3",
   "version": "3.12.3"
  }
 },
 "nbformat": 4,
 "nbformat_minor": 5
}
